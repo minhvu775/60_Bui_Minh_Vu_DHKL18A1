{
 "cells": [
  {
   "cell_type": "code",
   "execution_count": 1,
   "id": "86e2f226",
   "metadata": {},
   "outputs": [
    {
     "name": "stdout",
     "output_type": "stream",
     "text": [
      "Độ dài 2 cạnh của hình chữ nhật lần lượt là:  8 4\n",
      "Diện tích của hình chữ nhật là: 32\n",
      "Chu vi của hình chữ nhật là: 24\n"
     ]
    }
   ],
   "source": [
    "class Hinh_Chu_Nhat:\n",
    "    def __init__(self, length, width):\n",
    "        self.length = length\n",
    "        self.width = width\n",
    "\n",
    "    def dien_tich_hcn(self):\n",
    "        return self.length * self.width\n",
    "\n",
    "    def chu_vi_hcn(self):\n",
    "        return 2 * (self.length + self.width)\n",
    "\n",
    "Hinh_Chu_Nhat = Hinh_Chu_Nhat(8, 4) \n",
    "dientich = Hinh_Chu_Nhat.dien_tich_hcn()  \n",
    "chuvi = Hinh_Chu_Nhat.chu_vi_hcn() \n",
    "\n",
    "print(\"Độ dài 2 cạnh của hình chữ nhật lần lượt là: \", Hinh_Chu_Nhat.length, Hinh_Chu_Nhat.width)\n",
    "print(\"Diện tích của hình chữ nhật là:\", dientich)\n",
    "print(\"Chu vi của hình chữ nhật là:\", chuvi)        "
   ]
  }
 ],
 "metadata": {
  "kernelspec": {
   "display_name": "Python 3",
   "language": "python",
   "name": "python3"
  },
  "language_info": {
   "codemirror_mode": {
    "name": "ipython",
    "version": 3
   },
   "file_extension": ".py",
   "mimetype": "text/x-python",
   "name": "python",
   "nbconvert_exporter": "python",
   "pygments_lexer": "ipython3",
   "version": "3.11.9"
  }
 },
 "nbformat": 4,
 "nbformat_minor": 5
}
