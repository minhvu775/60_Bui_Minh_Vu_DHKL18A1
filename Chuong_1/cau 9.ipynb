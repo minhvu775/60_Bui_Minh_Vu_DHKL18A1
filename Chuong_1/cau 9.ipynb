{
 "cells": [
  {
   "cell_type": "code",
   "execution_count": 2,
   "id": "f408917f",
   "metadata": {},
   "outputs": [
    {
     "ename": "ValueError",
     "evalue": "could not convert string to float: ''",
     "output_type": "error",
     "traceback": [
      "\u001b[31m---------------------------------------------------------------------------\u001b[39m",
      "\u001b[31mValueError\u001b[39m                                Traceback (most recent call last)",
      "\u001b[36mCell\u001b[39m\u001b[36m \u001b[39m\u001b[32mIn[2]\u001b[39m\u001b[32m, line 33\u001b[39m\n\u001b[32m     30\u001b[39m       \u001b[38;5;28msuper\u001b[39m().\u001b[34m__init__\u001b[39m() \n\u001b[32m     32\u001b[39m square = Square()\n\u001b[32m---> \u001b[39m\u001b[32m33\u001b[39m \u001b[43msquare\u001b[49m\u001b[43m.\u001b[49m\u001b[43minput_sides\u001b[49m\u001b[43m(\u001b[49m\u001b[43m)\u001b[49m\n\u001b[32m     35\u001b[39m perimeter_square = square.perimeter()\n\u001b[32m     36\u001b[39m area_square = square.area()\n",
      "\u001b[36mCell\u001b[39m\u001b[36m \u001b[39m\u001b[32mIn[2]\u001b[39m\u001b[32m, line 9\u001b[39m, in \u001b[36mPolygon.input_sides\u001b[39m\u001b[34m(self)\u001b[39m\n\u001b[32m      7\u001b[39m \u001b[38;5;28;01mdef\u001b[39;00m\u001b[38;5;250m \u001b[39m\u001b[34minput_sides\u001b[39m(\u001b[38;5;28mself\u001b[39m):\n\u001b[32m      8\u001b[39m     \u001b[38;5;28;01mfor\u001b[39;00m i \u001b[38;5;129;01min\u001b[39;00m \u001b[38;5;28mrange\u001b[39m(\u001b[38;5;28mself\u001b[39m.num_sides):\n\u001b[32m----> \u001b[39m\u001b[32m9\u001b[39m         side = \u001b[38;5;28;43mfloat\u001b[39;49m\u001b[43m(\u001b[49m\u001b[38;5;28;43minput\u001b[39;49m\u001b[43m(\u001b[49m\u001b[33;43mf\u001b[39;49m\u001b[33;43m\"\u001b[39;49m\u001b[33;43mEnter length of side \u001b[39;49m\u001b[38;5;132;43;01m{\u001b[39;49;00m\u001b[43mi\u001b[49m\u001b[43m+\u001b[49m\u001b[32;43m1\u001b[39;49m\u001b[38;5;132;43;01m}\u001b[39;49;00m\u001b[33;43m: \u001b[39;49m\u001b[33;43m\"\u001b[39;49m\u001b[43m)\u001b[49m\u001b[43m)\u001b[49m\n\u001b[32m     10\u001b[39m         \u001b[38;5;28mself\u001b[39m.sides.append(side)\n",
      "\u001b[31mValueError\u001b[39m: could not convert string to float: ''"
     ]
    }
   ],
   "source": [
    "import math\n",
    "class Polygon:\n",
    "    def __init__(self, num_sides):\n",
    "        self.num_sides = num_sides\n",
    "        self.sides = []\n",
    "\n",
    "    def input_sides(self):\n",
    "        for i in range(self.num_sides):\n",
    "            side = float(input(f\"Enter length of side {i+1}: \"))\n",
    "            self.sides.append(side)\n",
    "\n",
    "    def perimeter(self):\n",
    "        return sum(self.sides)\n",
    "\n",
    "class Parallelogram(Polygon):\n",
    "    def __init__(self):\n",
    "        super().__init__(4) \n",
    "\n",
    "    def area(self):\n",
    "        base = self.sides[0]\n",
    "        height = float(input(\"Enter height: \"))\n",
    "        return base * height\n",
    "\n",
    "class Rectangle(Parallelogram):\n",
    "    def __init__(self):\n",
    "        super().__init__()\n",
    "\n",
    "class Square(Rectangle): \n",
    "    def __init__(self): \n",
    "      super().__init__() \n",
    "      \n",
    "square = Square()\n",
    "square.input_sides()\n",
    "\n",
    "perimeter_square = square.perimeter()\n",
    "area_square = square.area()\n",
    "\n",
    "print(f\"Perimeter of the square: {perimeter_square}\")\n",
    "print(f\"Area of the square: {area_square}\")"
   ]
  }
 ],
 "metadata": {
  "kernelspec": {
   "display_name": "Python 3",
   "language": "python",
   "name": "python3"
  },
  "language_info": {
   "codemirror_mode": {
    "name": "ipython",
    "version": 3
   },
   "file_extension": ".py",
   "mimetype": "text/x-python",
   "name": "python",
   "nbconvert_exporter": "python",
   "pygments_lexer": "ipython3",
   "version": "3.11.9"
  }
 },
 "nbformat": 4,
 "nbformat_minor": 5
}
