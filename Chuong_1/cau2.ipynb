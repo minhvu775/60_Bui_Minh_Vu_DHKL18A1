{
 "cells": [
  {
   "cell_type": "code",
   "execution_count": 3,
   "id": "a740a25c",
   "metadata": {},
   "outputs": [
    {
     "ename": "ValueError",
     "evalue": "invalid literal for int() with base 10: ''",
     "output_type": "error",
     "traceback": [
      "\u001b[31m---------------------------------------------------------------------------\u001b[39m",
      "\u001b[31mValueError\u001b[39m                                Traceback (most recent call last)",
      "\u001b[36mCell\u001b[39m\u001b[36m \u001b[39m\u001b[32mIn[3]\u001b[39m\u001b[32m, line 24\u001b[39m\n\u001b[32m     21\u001b[39m         \u001b[38;5;28;01mreturn\u001b[39;00m \u001b[38;5;28mself\u001b[39m.diem_toan + \u001b[38;5;28mself\u001b[39m.diem_ly + \u001b[38;5;28mself\u001b[39m.diem_hoa\n\u001b[32m     23\u001b[39m \u001b[38;5;66;03m# Nhập danh sách thí sinh\u001b[39;00m\n\u001b[32m---> \u001b[39m\u001b[32m24\u001b[39m n = \u001b[38;5;28;43mint\u001b[39;49m\u001b[43m(\u001b[49m\u001b[38;5;28;43minput\u001b[39;49m\u001b[43m(\u001b[49m\u001b[33;43m\"\u001b[39;49m\u001b[33;43mNhập số lượng thí sinh: \u001b[39;49m\u001b[33;43m\"\u001b[39;49m\u001b[43m)\u001b[49m\u001b[43m)\u001b[49m\n\u001b[32m     25\u001b[39m ds_ts = [TS() \u001b[38;5;28;01mfor\u001b[39;00m _ \u001b[38;5;129;01min\u001b[39;00m \u001b[38;5;28mrange\u001b[39m(n)]\n\u001b[32m     26\u001b[39m \u001b[38;5;28;01mfor\u001b[39;00m ts \u001b[38;5;129;01min\u001b[39;00m ds_ts:\n",
      "\u001b[31mValueError\u001b[39m: invalid literal for int() with base 10: ''"
     ]
    }
   ],
   "source": [
    "class TS:\n",
    "    def __init__(self, hoten='', diem_toan=0, diem_ly=0, diem_hoa=0):\n",
    "        self.hoten = hoten\n",
    "        self.diem_toan = diem_toan\n",
    "        self.diem_ly = diem_ly\n",
    "        self.diem_hoa = diem_hoa\n",
    "\n",
    "    def nhap_thong_tin(self):\n",
    "        self.hoten = input(\"Nhập họ và tên thí sinh: \")\n",
    "        self.diem_toan = float(input(\"Nhập điểm Toán: \"))\n",
    "        self.diem_ly = float(input(\"Nhập điểm Lý: \"))\n",
    "        self.diem_hoa = float(input(\"Nhập điểm Hóa: \"))\n",
    "\n",
    "    def in_thong_tin(self):\n",
    "        print(\"Họ và tên:\", self.hoten)\n",
    "        print(\"Điểm Toán:\", self.diem_toan)\n",
    "        print(\"Điểm Lý:\", self.diem_ly)\n",
    "        print(\"Điểm Hóa:\", self.diem_hoa)\n",
    "\n",
    "    def tong_diem(self):\n",
    "        return self.diem_toan + self.diem_ly + self.diem_hoa\n",
    "\n",
    "# Nhập danh sách thí sinh\n",
    "n = int(input(\"Nhập số lượng thí sinh: \"))\n",
    "ds_ts = [TS() for _ in range(n)]\n",
    "for ts in ds_ts:\n",
    "    ts.nhap_thong_tin()\n",
    "    tong_diem = ts.tong_diem() \n",
    "print(\"Tổng điểm của thí sinh:\", tong_diem)\n",
    "\n",
    "# Sắp xếp danh sách thí sinh theo tổng điểm từ cao xuống thấp\n",
    "ds_ts_trung_tuyen = sorted(ds_ts, key=lambda x: x.tong_diem(), reverse=True)\n",
    "\n",
    "# In danh sách thí sinh trúng tuyển\n",
    "print(\"Danh sách thí sinh trúng tuyển gồm:\")\n",
    "for ts in ds_ts_trung_tuyen:\n",
    "    if ts.tong_diem() >= 20:\n",
    "        ts.in_thong_tin()"
   ]
  }
 ],
 "metadata": {
  "language_info": {
   "name": "python"
  }
 },
 "nbformat": 4,
 "nbformat_minor": 5
}
