{
 "cells": [
  {
   "cell_type": "code",
   "execution_count": 1,
   "id": "2c2e2ab9",
   "metadata": {},
   "outputs": [
    {
     "name": "stdout",
     "output_type": "stream",
     "text": [
      "Ngày: 26/9/2023\n",
      "Ngày: 27/9/2023\n"
     ]
    }
   ],
   "source": [
    "class Date:\n",
    "    def __init__(self, ngay=1, thang=1, nam=1900):\n",
    "        self.ngay = ngay\n",
    "        self.thang = thang\n",
    "        self.nam = nam\n",
    "\n",
    "    def display(self):\n",
    "        print(f\"Ngày: {self.ngay}/{self.thang}/{self.nam}\")\n",
    "\n",
    "    def next(self):\n",
    "        import datetime\n",
    "        current_date = datetime.date(self.nam, self.thang, self.ngay)\n",
    "        next_date = current_date + datetime.timedelta(days=1)\n",
    "        self.ngay = next_date.day\n",
    "        self.thang = next_date.month\n",
    "        self.nam = next_date.year\n",
    "\n",
    "# Tạo 1 data ngày\n",
    "ngay = Date(26, 9, 2023)\n",
    "\n",
    "# In thông tin về ngày\n",
    "ngay.display()\n",
    "\n",
    "# Tính ngày tiếp theo và in kết quả\n",
    "ngay.next()\n",
    "ngay.display()"
   ]
  }
 ],
 "metadata": {
  "kernelspec": {
   "display_name": "Python 3",
   "language": "python",
   "name": "python3"
  },
  "language_info": {
   "codemirror_mode": {
    "name": "ipython",
    "version": 3
   },
   "file_extension": ".py",
   "mimetype": "text/x-python",
   "name": "python",
   "nbconvert_exporter": "python",
   "pygments_lexer": "ipython3",
   "version": "3.11.9"
  }
 },
 "nbformat": 4,
 "nbformat_minor": 5
}
