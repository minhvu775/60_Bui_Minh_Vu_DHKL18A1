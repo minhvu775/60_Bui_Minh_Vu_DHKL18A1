{
 "cells": [
  {
   "cell_type": "code",
   "execution_count": 1,
   "id": "05456264",
   "metadata": {},
   "outputs": [
    {
     "name": "stdout",
     "output_type": "stream",
     "text": [
      "Chu vi tam giác vuông là: 12.0\n",
      "Diện tích tam giác vuông là: 6.0\n",
      "Chu vi tam giác cân là: 15\n",
      "Diện tích tam giác cân là: 10.825317547305483\n",
      "Chu vi tam giác đều là: 18\n",
      "Diện tích tam giác đều là: 15.588457268119896\n"
     ]
    }
   ],
   "source": [
    "class TamGiac:\n",
    "    def __init__(self, a, b, c):\n",
    "        self.a = a\n",
    "        self.b = b\n",
    "        self.c = c\n",
    "        \n",
    "    def chu_vi(self):\n",
    "        return self.a + self.b + self.c\n",
    "    \n",
    "    def dien_tich(self):\n",
    "        p = (self.a + self.b + self.c) / 2\n",
    "        return (p * (p - self.a) * (p - self.b) * (p - self.c)) ** 0.5\n",
    "\n",
    "class TamGiacVuong(TamGiac):\n",
    "    def __init__(self, a, b):\n",
    "        super().__init__(a, b, (a**2 + b**2)**0.5)\n",
    "\n",
    "class TamGiacCan(TamGiac):\n",
    "    def __init__(self, a, b):\n",
    "        super().__init__(a, b, b)\n",
    "\n",
    "class TamGiacDeu(TamGiacCan):\n",
    "    def __init__(self, a):\n",
    "        super().__init__(a, a)\n",
    "\n",
    "tam_giac_vuong = TamGiacVuong(3, 4)\n",
    "print(\"Chu vi tam giác vuông là:\", tam_giac_vuong.chu_vi())\n",
    "print(\"Diện tích tam giác vuông là:\", tam_giac_vuong.dien_tich())\n",
    "\n",
    "tam_giac_can = TamGiacCan(5, 5)\n",
    "print(\"Chu vi tam giác cân là:\", tam_giac_can.chu_vi())\n",
    "print(\"Diện tích tam giác cân là:\", tam_giac_can.dien_tich())\n",
    "\n",
    "tam_giac_deu = TamGiacDeu(6)\n",
    "print(\"Chu vi tam giác đều là:\", tam_giac_deu.chu_vi())\n",
    "print(\"Diện tích tam giác đều là:\", tam_giac_deu.dien_tich())"
   ]
  }
 ],
 "metadata": {
  "kernelspec": {
   "display_name": "Python 3",
   "language": "python",
   "name": "python3"
  },
  "language_info": {
   "codemirror_mode": {
    "name": "ipython",
    "version": 3
   },
   "file_extension": ".py",
   "mimetype": "text/x-python",
   "name": "python",
   "nbconvert_exporter": "python",
   "pygments_lexer": "ipython3",
   "version": "3.11.9"
  }
 },
 "nbformat": 4,
 "nbformat_minor": 5
}
