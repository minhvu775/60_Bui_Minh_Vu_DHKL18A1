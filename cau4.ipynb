{
 "cells": [
  {
   "cell_type": "code",
   "execution_count": 1,
   "id": "3a812627",
   "metadata": {},
   "outputs": [
    {
     "name": "stdout",
     "output_type": "stream",
     "text": [
      "Pushed 3.14 into the stack.\n",
      "Pushed 2.71 into the stack.\n",
      "Pushed 1.618 into the stack.\n",
      "1.618\n",
      "False\n",
      "2.71\n",
      "False\n"
     ]
    }
   ],
   "source": [
    "class Stack:\n",
    "    def __init__(self, capacity):\n",
    "        self.capacity = capacity\n",
    "        self.stack = [None] * capacity\n",
    "        self.top = -1\n",
    "\n",
    "    def push(self, element):\n",
    "        if not self.isFull():\n",
    "            self.top += 1\n",
    "            self.stack[self.top] = element\n",
    "            print(f\"Pushed {element} into the stack.\")\n",
    "        else:\n",
    "            print(\"Stack is full. Cannot push element.\")\n",
    "\n",
    "    def pop(self):\n",
    "        if not self.isEmpty():\n",
    "            popped_element = self.stack[self.top]\n",
    "            self.stack[self.top] = None\n",
    "            self.top -= 1\n",
    "            return popped_element\n",
    "        else:\n",
    "            print(\"Stack is empty. Cannot pop element.\")\n",
    "    \n",
    "    def isEmpty(self):\n",
    "        return True if (self.top == -1) else False\n",
    "    \n",
    "    def isFull(self):\n",
    "        return True if (self.top == (self.capacity - 1)) else False\n",
    "\n",
    "\n",
    "stack_capacity = 5 \n",
    "my_stack = Stack(stack_capacity)\n",
    "\n",
    "my_stack.push(3.14)\n",
    "my_stack.push(2.71)\n",
    "my_stack.push(1.618)\n",
    "print(my_stack.pop()) \n",
    "\n",
    "print(my_stack.isEmpty())\n",
    "\n",
    "print(my_stack.pop())\n",
    "\n",
    "print(my_stack.isFull())"
   ]
  }
 ],
 "metadata": {
  "kernelspec": {
   "display_name": "Python 3",
   "language": "python",
   "name": "python3"
  },
  "language_info": {
   "codemirror_mode": {
    "name": "ipython",
    "version": 3
   },
   "file_extension": ".py",
   "mimetype": "text/x-python",
   "name": "python",
   "nbconvert_exporter": "python",
   "pygments_lexer": "ipython3",
   "version": "3.11.9"
  }
 },
 "nbformat": 4,
 "nbformat_minor": 5
}
