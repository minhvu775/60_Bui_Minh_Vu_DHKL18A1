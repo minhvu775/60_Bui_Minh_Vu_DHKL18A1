{
 "cells": [
  {
   "cell_type": "code",
   "execution_count": 1,
   "id": "f71f0a1a",
   "metadata": {},
   "outputs": [
    {
     "name": "stdout",
     "output_type": "stream",
     "text": [
      "Diện tích của elip là: 47.12388980384689\n",
      "Diện tích của hình tròn là: 78.53981633974483\n"
     ]
    }
   ],
   "source": [
    "import math\n",
    "class Point:\n",
    "    def __init__(self, x, y):\n",
    "        self.x = x\n",
    "        self.y = y\n",
    "\n",
    "class Ellipse(Point):\n",
    "    def __init__(self, x_center, y_center, a_axis_length, b_axis_length):\n",
    "        super().__init__(x_center, y_center)\n",
    "        self.a = a_axis_length\n",
    "        self.b = b_axis_length\n",
    "\n",
    "    def area(self):\n",
    "        return math.pi * self.a * self.b\n",
    "\n",
    "class Circle(Ellipse):\n",
    "    def __init__(self, x_center, y_center, radius):\n",
    "        super().__init__(x_center,y_center,radius,radius)\n",
    "\n",
    "\n",
    "elip = Ellipse(0, 0, 5, 3)\n",
    "# Tính diện tích của elip\n",
    "elip_area = elip.area()\n",
    "print(\"Diện tích của elip là:\", elip_area)\n",
    "\n",
    "\n",
    "circle = Circle(0, 0, 5)\n",
    "# Tính diện tích của hình tròn\n",
    "circle_area = circle.area()\n",
    "print(\"Diện tích của hình tròn là:\", circle_area)"
   ]
  }
 ],
 "metadata": {
  "kernelspec": {
   "display_name": "Python 3",
   "language": "python",
   "name": "python3"
  },
  "language_info": {
   "codemirror_mode": {
    "name": "ipython",
    "version": 3
   },
   "file_extension": ".py",
   "mimetype": "text/x-python",
   "name": "python",
   "nbconvert_exporter": "python",
   "pygments_lexer": "ipython3",
   "version": "3.11.9"
  }
 },
 "nbformat": 4,
 "nbformat_minor": 5
}
