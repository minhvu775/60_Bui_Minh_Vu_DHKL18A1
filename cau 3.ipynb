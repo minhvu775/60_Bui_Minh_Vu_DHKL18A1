{
 "cells": [
  {
   "cell_type": "code",
   "execution_count": 4,
   "id": "782b7e8e",
   "metadata": {},
   "outputs": [
    {
     "ename": "ValueError",
     "evalue": "invalid literal for int() with base 10: ''",
     "output_type": "error",
     "traceback": [
      "\u001b[31m---------------------------------------------------------------------------\u001b[39m",
      "\u001b[31mValueError\u001b[39m                                Traceback (most recent call last)",
      "\u001b[36mCell\u001b[39m\u001b[36m \u001b[39m\u001b[32mIn[4]\u001b[39m\u001b[32m, line 20\u001b[39m\n\u001b[32m     17\u001b[39m ps = PS()\n\u001b[32m     19\u001b[39m \u001b[38;5;66;03m# Nhập phân số\u001b[39;00m\n\u001b[32m---> \u001b[39m\u001b[32m20\u001b[39m \u001b[43mps\u001b[49m\u001b[43m.\u001b[49m\u001b[43mnhap_phan_so\u001b[49m\u001b[43m(\u001b[49m\u001b[43m)\u001b[49m\n\u001b[32m     22\u001b[39m \u001b[38;5;66;03m# In phân số ra màn hình\u001b[39;00m\n\u001b[32m     23\u001b[39m ps.in_phan_so()\n",
      "\u001b[36mCell\u001b[39m\u001b[36m \u001b[39m\u001b[32mIn[4]\u001b[39m\u001b[32m, line 7\u001b[39m, in \u001b[36mPS.nhap_phan_so\u001b[39m\u001b[34m(self)\u001b[39m\n\u001b[32m      6\u001b[39m \u001b[38;5;28;01mdef\u001b[39;00m\u001b[38;5;250m \u001b[39m\u001b[34mnhap_phan_so\u001b[39m(\u001b[38;5;28mself\u001b[39m):\n\u001b[32m----> \u001b[39m\u001b[32m7\u001b[39m     \u001b[38;5;28mself\u001b[39m.tuso = \u001b[38;5;28;43mint\u001b[39;49m\u001b[43m(\u001b[49m\u001b[38;5;28;43minput\u001b[39;49m\u001b[43m(\u001b[49m\u001b[33;43m\"\u001b[39;49m\u001b[33;43mNhập tử số: \u001b[39;49m\u001b[33;43m\"\u001b[39;49m\u001b[43m)\u001b[49m\u001b[43m)\u001b[49m\n\u001b[32m      8\u001b[39m     \u001b[38;5;28mself\u001b[39m.mauso = \u001b[38;5;28mint\u001b[39m(\u001b[38;5;28minput\u001b[39m(\u001b[33m\"\u001b[39m\u001b[33mNhập mẫu số (khác 0): \u001b[39m\u001b[33m\"\u001b[39m))\n",
      "\u001b[31mValueError\u001b[39m: invalid literal for int() with base 10: ''"
     ]
    }
   ],
   "source": [
    "class PS:\n",
    "    def __init__(self, tuso=0, mauso=1):\n",
    "        self.tuso = tuso\n",
    "        self.mauso = mauso\n",
    "\n",
    "    def nhap_phan_so(self):\n",
    "        self.tuso = int(input(\"Nhập tử số: \"))\n",
    "        self.mauso = int(input(\"Nhập mẫu số (khác 0): \"))\n",
    "\n",
    "    def kiem_tra_hop_le(self):\n",
    "        return self.mauso != 0\n",
    "\n",
    "    def in_phan_so(self):\n",
    "        print(f\"Phân số là: {self.tuso}/{self.mauso}\")\n",
    "\n",
    "\n",
    "ps = PS()\n",
    "\n",
    "# Nhập phân số\n",
    "ps.nhap_phan_so()\n",
    "\n",
    "# In phân số ra màn hình\n",
    "ps.in_phan_so()\n",
    "\n",
    "# Kiểm tra tính hợp lệ của phân số\n",
    "if ps.kiem_tra_hop_le():\n",
    "    print(\"Phân số hợp lệ.\")\n",
    "else:\n",
    "    print(\"Phân số không hợp lệ.\")"
   ]
  }
 ],
 "metadata": {
  "kernelspec": {
   "display_name": "Python 3",
   "language": "python",
   "name": "python3"
  },
  "language_info": {
   "codemirror_mode": {
    "name": "ipython",
    "version": 3
   },
   "file_extension": ".py",
   "mimetype": "text/x-python",
   "name": "python",
   "nbconvert_exporter": "python",
   "pygments_lexer": "ipython3",
   "version": "3.11.9"
  }
 },
 "nbformat": 4,
 "nbformat_minor": 5
}
